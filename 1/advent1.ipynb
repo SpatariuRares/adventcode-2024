{
 "cells": [
  {
   "cell_type": "code",
   "execution_count": null,
   "metadata": {},
   "outputs": [
    {
     "name": "stdout",
     "output_type": "stream",
     "text": [
      "Total distance: 1222801\n"
     ]
    }
   ],
   "source": [
    "# Step 1: Read the input data\n",
    "# Assuming the data is stored in a file named 'input.txt' in the same directory\n",
    "\n",
    "left_list = []\n",
    "right_list = []\n",
    "\n",
    "try:\n",
    "    with open('input1.txt', 'r') as file:\n",
    "        for line in file:\n",
    "            numbers = line.strip().split()\n",
    "            if len(numbers) == 2:\n",
    "                left_num = int(numbers[0])\n",
    "                right_num = int(numbers[1])\n",
    "                left_list.append(left_num)\n",
    "                right_list.append(right_num)\n",
    "            else:\n",
    "                print(f\"Invalid line (skipped): {line.strip()}\")\n",
    "except FileNotFoundError:\n",
    "    print(\"The file 'input.txt' was not found. Please make sure it exists in the current directory.\")\n",
    "\n",
    "# Check if both lists have the same number of elements\n",
    "if len(left_list) != len(right_list):\n",
    "    print(\"Warning: The left and right lists have different lengths.\")\n",
    "    min_length = min(len(left_list), len(right_list))\n",
    "    left_list = left_list[:min_length]\n",
    "    right_list = right_list[:min_length]\n",
    "\n",
    "# Step 2: Sort both lists\n",
    "left_list_sorted = sorted(left_list)\n",
    "right_list_sorted = sorted(right_list)\n",
    "\n",
    "# Step 3: Pair the numbers and calculate distances\n",
    "total_distance = 0\n",
    "for left_num, right_num in zip(left_list_sorted, right_list_sorted):\n",
    "    distance = abs(left_num - right_num)\n",
    "    total_distance += distance\n",
    "\n",
    "# Step 4: Output the total distance\n",
    "print(\"Total distance:\", total_distance)\n"
   ]
  },
  {
   "cell_type": "code",
   "execution_count": 12,
   "metadata": {},
   "outputs": [
    {
     "name": "stdout",
     "output_type": "stream",
     "text": [
      "Similarity score: 22545250\n"
     ]
    }
   ],
   "source": [
    "# Step 1: Read the input data\n",
    "# Assuming the data is stored in a file named 'input.txt' in the same directory\n",
    "\n",
    "from collections import Counter\n",
    "\n",
    "left_list = []\n",
    "right_list = []\n",
    "\n",
    "try:\n",
    "    with open('input1.txt', 'r') as file:\n",
    "        for line in file:\n",
    "            numbers = line.strip().split()\n",
    "            if len(numbers) == 2:\n",
    "                left_num = int(numbers[0])\n",
    "                right_num = int(numbers[1])\n",
    "                left_list.append(left_num)\n",
    "                right_list.append(right_num)\n",
    "            else:\n",
    "                print(f\"Invalid line (skipped): {line.strip()}\")\n",
    "except FileNotFoundError:\n",
    "    print(\"The file 'input.txt' was not found. Please make sure it exists in the current directory.\")\n",
    "\n",
    "# Step 2: Count occurrences in the right list\n",
    "right_counts = Counter(right_list)\n",
    "\n",
    "# Step 3: Calculate the similarity score\n",
    "similarity_score = 0\n",
    "for left_num in left_list:\n",
    "    count_in_right = right_counts.get(left_num, 0)\n",
    "    product = left_num * count_in_right\n",
    "    similarity_score += product\n",
    "\n",
    "# Step 4: Output the similarity score\n",
    "print(\"Similarity score:\", similarity_score)\n"
   ]
  }
 ],
 "metadata": {
  "kernelspec": {
   "display_name": "Python 3",
   "language": "python",
   "name": "python3"
  },
  "language_info": {
   "codemirror_mode": {
    "name": "ipython",
    "version": 3
   },
   "file_extension": ".py",
   "mimetype": "text/x-python",
   "name": "python",
   "nbconvert_exporter": "python",
   "pygments_lexer": "ipython3",
   "version": "3.12.2"
  }
 },
 "nbformat": 4,
 "nbformat_minor": 2
}
