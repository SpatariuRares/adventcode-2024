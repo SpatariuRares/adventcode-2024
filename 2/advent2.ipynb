{
 "cells": [
  {
   "cell_type": "code",
   "execution_count": 2,
   "metadata": {},
   "outputs": [
    {
     "name": "stdout",
     "output_type": "stream",
     "text": [
      "Number of safe reports: 559\n"
     ]
    }
   ],
   "source": [
    "# Read data from 'input.txt'\n",
    "with open('input2.txt', 'r') as file:\n",
    "    data = file.read()\n",
    "\n",
    "# Split the data into individual reports\n",
    "reports = [\n",
    "    list(map(int, line.strip().split()))\n",
    "    for line in data.strip().split('\\n') if line.strip()\n",
    "]\n",
    "\n",
    "def is_safe(report):\n",
    "    # Calculate differences between adjacent levels\n",
    "    diffs = [report[i+1] - report[i] for i in range(len(report)-1)]\n",
    "    \n",
    "    # Check for zero differences (unsafe)\n",
    "    if any(diff == 0 for diff in diffs):\n",
    "        return False\n",
    "    \n",
    "    # Check if all differences are positive (increasing) and within [1, 3]\n",
    "    if all(1 <= diff <= 3 for diff in diffs):\n",
    "        return True\n",
    "    \n",
    "    # Check if all differences are negative (decreasing) and within [-3, -1]\n",
    "    if all(-3 <= diff <= -1 for diff in diffs):\n",
    "        return True\n",
    "    \n",
    "    # If differences change sign or are out of bounds, report is unsafe\n",
    "    return False\n",
    "\n",
    "# Count the number of safe reports\n",
    "safe_reports = sum(is_safe(report) for report in reports)\n",
    "print(f\"Number of safe reports: {safe_reports}\")\n"
   ]
  },
  {
   "cell_type": "code",
   "execution_count": 3,
   "metadata": {},
   "outputs": [
    {
     "name": "stdout",
     "output_type": "stream",
     "text": [
      "Number of safe reports: 601\n"
     ]
    }
   ],
   "source": [
    "# Read data from 'input.txt'\n",
    "with open('input2.txt', 'r') as file:\n",
    "    data = file.read()\n",
    "\n",
    "# Split the data into individual reports\n",
    "reports = [\n",
    "    list(map(int, line.strip().split()))\n",
    "    for line in data.strip().split('\\n') if line.strip()\n",
    "]\n",
    "\n",
    "def is_safe(report):\n",
    "    # Calculate differences between adjacent levels\n",
    "    diffs = [report[i+1] - report[i] for i in range(len(report)-1)]\n",
    "    \n",
    "    # Check for zero differences (unsafe)\n",
    "    if any(diff == 0 for diff in diffs):\n",
    "        return False\n",
    "    \n",
    "    # Check if all differences are positive (increasing) and within [1, 3]\n",
    "    if all(1 <= diff <= 3 for diff in diffs):\n",
    "        return True\n",
    "    \n",
    "    # Check if all differences are negative (decreasing) and within [-3, -1]\n",
    "    if all(-3 <= diff <= -1 for diff in diffs):\n",
    "        return True\n",
    "    \n",
    "    # If differences change sign or are out of bounds, report is unsafe\n",
    "    return False\n",
    "\n",
    "def is_safe_with_dampener(report):\n",
    "    # First, check if the original report is safe\n",
    "    if is_safe(report):\n",
    "        return True\n",
    "    \n",
    "    # Try removing each level one at a time\n",
    "    for i in range(len(report)):\n",
    "        # Create a new report with one level removed\n",
    "        new_report = report[:i] + report[i+1:]\n",
    "        # Reports must have at least two levels after removal\n",
    "        if len(new_report) < 2:\n",
    "            continue\n",
    "        if is_safe(new_report):\n",
    "            return True\n",
    "    return False\n",
    "\n",
    "# Count the number of safe reports with the Problem Dampener\n",
    "safe_reports = sum(is_safe_with_dampener(report) for report in reports)\n",
    "print(f\"Number of safe reports: {safe_reports}\")\n"
   ]
  }
 ],
 "metadata": {
  "kernelspec": {
   "display_name": "Python 3",
   "language": "python",
   "name": "python3"
  },
  "language_info": {
   "codemirror_mode": {
    "name": "ipython",
    "version": 3
   },
   "file_extension": ".py",
   "mimetype": "text/x-python",
   "name": "python",
   "nbconvert_exporter": "python",
   "pygments_lexer": "ipython3",
   "version": "3.12.2"
  }
 },
 "nbformat": 4,
 "nbformat_minor": 2
}
