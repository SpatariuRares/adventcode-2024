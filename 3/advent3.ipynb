{
 "cells": [
  {
   "cell_type": "code",
   "execution_count": 3,
   "metadata": {},
   "outputs": [
    {
     "name": "stdout",
     "output_type": "stream",
     "text": [
      "167090022\n"
     ]
    }
   ],
   "source": [
    "import re\n",
    "\n",
    "# Read the input from input.txt\n",
    "with open('input3.txt', 'r') as file:\n",
    "    data = file.read()\n",
    "\n",
    "# Regular expression to find all valid mul(X,Y) instructions\n",
    "pattern = r'mul\\((\\d{1,3}),(\\d{1,3})\\)'\n",
    "\n",
    "# Find all matches in the data\n",
    "matches = re.findall(pattern, data)\n",
    "\n",
    "# Initialize the total sum\n",
    "total_sum = 0\n",
    "\n",
    "# Process each match\n",
    "for x_str, y_str in matches:\n",
    "    x = int(x_str)\n",
    "    y = int(y_str)\n",
    "    total_sum += x * y\n",
    "\n",
    "# Output the total sum\n",
    "print(total_sum)\n"
   ]
  },
  {
   "cell_type": "code",
   "execution_count": 4,
   "metadata": {},
   "outputs": [
    {
     "name": "stdout",
     "output_type": "stream",
     "text": [
      "89823704\n"
     ]
    }
   ],
   "source": [
    "import re\n",
    "\n",
    "# Read the input from input.txt\n",
    "with open('input3.txt', 'r') as file:\n",
    "    data = file.read()\n",
    "\n",
    "# Compile the regular expressions\n",
    "mul_pattern = re.compile(r'mul\\((\\d{1,3}),(\\d{1,3})\\)')\n",
    "do_pattern = re.compile(r'do\\(\\)')\n",
    "dont_pattern = re.compile(r\"don't\\(\\)\")\n",
    "\n",
    "# Find all matches with their positions\n",
    "matches = []\n",
    "\n",
    "# Find mul matches\n",
    "for match in mul_pattern.finditer(data):\n",
    "    matches.append((match.start(), 'mul', match))\n",
    "\n",
    "# Find do() matches\n",
    "for match in do_pattern.finditer(data):\n",
    "    matches.append((match.start(), 'do', None))\n",
    "\n",
    "# Find don't() matches\n",
    "for match in dont_pattern.finditer(data):\n",
    "    matches.append((match.start(), 'dont', None))\n",
    "\n",
    "# Sort matches by their position in the data\n",
    "matches.sort(key=lambda x: x[0])\n",
    "\n",
    "# Initialize state\n",
    "mul_enabled = True  # At the beginning, mul instructions are enabled\n",
    "total_sum = 0\n",
    "\n",
    "# Process matches in order\n",
    "for pos, mtype, match in matches:\n",
    "    if mtype == 'do':\n",
    "        mul_enabled = True\n",
    "    elif mtype == 'dont':\n",
    "        mul_enabled = False\n",
    "    elif mtype == 'mul':\n",
    "        if mul_enabled:\n",
    "            x_str, y_str = match.groups()\n",
    "            x = int(x_str)\n",
    "            y = int(y_str)\n",
    "            total_sum += x * y\n",
    "\n",
    "# Output the total sum\n",
    "print(total_sum)\n"
   ]
  }
 ],
 "metadata": {
  "kernelspec": {
   "display_name": "Python 3",
   "language": "python",
   "name": "python3"
  },
  "language_info": {
   "codemirror_mode": {
    "name": "ipython",
    "version": 3
   },
   "file_extension": ".py",
   "mimetype": "text/x-python",
   "name": "python",
   "nbconvert_exporter": "python",
   "pygments_lexer": "ipython3",
   "version": "3.12.2"
  }
 },
 "nbformat": 4,
 "nbformat_minor": 2
}
